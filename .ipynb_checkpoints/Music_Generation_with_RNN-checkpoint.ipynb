{
 "cells": [
  {
   "cell_type": "markdown",
   "metadata": {},
   "source": [
    "## 1. Setup Env and Dependencies"
   ]
  },
  {
   "cell_type": "markdown",
   "metadata": {},
   "source": [
    "Run Below command in Terminal/CMD to config with CV2. \n",
    ">conda update anaconda-navigator  \n",
    ">conda update navigator-updater  \n",
    ">pip install opencv-python"
   ]
  },
  {
   "cell_type": "code",
   "execution_count": 26,
   "metadata": {},
   "outputs": [
    {
     "name": "stdout",
     "output_type": "stream",
     "text": [
      "Requirement already satisfied: mitdeeplearning in /Users/Sunny_Charlie/opt/anaconda3/lib/python3.8/site-packages (0.2.0)\r\n",
      "Requirement already satisfied: regex in /Users/Sunny_Charlie/opt/anaconda3/lib/python3.8/site-packages (from mitdeeplearning) (2020.6.8)\r\n",
      "Requirement already satisfied: numpy in /Users/Sunny_Charlie/opt/anaconda3/lib/python3.8/site-packages (from mitdeeplearning) (1.18.5)\r\n",
      "Requirement already satisfied: gym in /Users/Sunny_Charlie/opt/anaconda3/lib/python3.8/site-packages (from mitdeeplearning) (0.21.0)\r\n",
      "Requirement already satisfied: tqdm in /Users/Sunny_Charlie/opt/anaconda3/lib/python3.8/site-packages (from mitdeeplearning) (4.47.0)\r\n",
      "Requirement already satisfied: cloudpickle>=1.2.0 in /Users/Sunny_Charlie/opt/anaconda3/lib/python3.8/site-packages (from gym->mitdeeplearning) (1.5.0)\r\n"
     ]
    }
   ],
   "source": [
    "# Import Tensorflow 2.0\n",
    "#%tensorflow_version 2.0\n",
    "import tensorflow as tf \n",
    "\n",
    "!pip install mitdeeplearning\n",
    "import mitdeeplearning as mdl\n",
    "import numpy as np\n",
    "import os \n",
    "import time\n",
    "import functools\n",
    "from IPython import display as ipythondisplay\n",
    "from tqdm import tqdm\n",
    "!apt-get intall abcmidi timidity > /dev/null 2>&1"
   ]
  },
  {
   "cell_type": "code",
   "execution_count": 25,
   "metadata": {},
   "outputs": [],
   "source": [
    "# Check using a GPU, if not switch runtimes\n",
    "# Using Runtime > Change Runtime Type > GPU\n",
    "# assert len(tf.config.list_physical_devices('GPU')) > 0"
   ]
  },
  {
   "cell_type": "markdown",
   "metadata": {},
   "source": [
    "## 2. Dataset"
   ]
  },
  {
   "cell_type": "code",
   "execution_count": 27,
   "metadata": {},
   "outputs": [
    {
     "ename": "AttributeError",
     "evalue": "module 'mitdeeplearning' has no attribute 'lab1'",
     "output_type": "error",
     "traceback": [
      "\u001b[0;31m---------------------------------------------------------------------------\u001b[0m",
      "\u001b[0;31mAttributeError\u001b[0m                            Traceback (most recent call last)",
      "\u001b[0;32m<ipython-input-27-38b715e54f31>\u001b[0m in \u001b[0;36m<module>\u001b[0;34m\u001b[0m\n\u001b[0;32m----> 1\u001b[0;31m \u001b[0msongs\u001b[0m \u001b[0;34m=\u001b[0m \u001b[0mmdl\u001b[0m\u001b[0;34m.\u001b[0m\u001b[0mlab1\u001b[0m\u001b[0;34m.\u001b[0m\u001b[0mload_training_data\u001b[0m\u001b[0;34m(\u001b[0m\u001b[0;34m)\u001b[0m\u001b[0;34m\u001b[0m\u001b[0;34m\u001b[0m\u001b[0m\n\u001b[0m",
      "\u001b[0;31mAttributeError\u001b[0m: module 'mitdeeplearning' has no attribute 'lab1'"
     ]
    }
   ],
   "source": [
    "songs = mdl.lab1.load_training_data()"
   ]
  },
  {
   "cell_type": "code",
   "execution_count": 28,
   "metadata": {},
   "outputs": [],
   "source": [
    "mdl?"
   ]
  },
  {
   "cell_type": "code",
   "execution_count": null,
   "metadata": {},
   "outputs": [],
   "source": []
  }
 ],
 "metadata": {
  "kernelspec": {
   "display_name": "Python 3",
   "language": "python",
   "name": "python3"
  },
  "language_info": {
   "codemirror_mode": {
    "name": "ipython",
    "version": 3
   },
   "file_extension": ".py",
   "mimetype": "text/x-python",
   "name": "python",
   "nbconvert_exporter": "python",
   "pygments_lexer": "ipython3",
   "version": "3.8.3"
  }
 },
 "nbformat": 4,
 "nbformat_minor": 4
}
